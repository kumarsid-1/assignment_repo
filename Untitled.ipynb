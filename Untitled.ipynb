{
 "cells": [
  {
   "cell_type": "code",
   "execution_count": null,
   "id": "00e21726-86a2-4615-8f92-c6e70a94c425",
   "metadata": {},
   "outputs": [],
   "source": [
    " Write a function that takes a list of numbers as input and returns a new list containing only the even numbers from the input list. Use list comprehension to solve this problem.\n",
    "\n",
    "Example:\n",
    "\n",
    "Input: [1, 2, 3, 4, 5, 6, 7, 8, 9, 10]\n",
    "\n",
    "Output: [2, 4, 6, 8, 10]"
   ]
  },
  {
   "cell_type": "code",
   "execution_count": 10,
   "id": "b9a9be34-cb11-4687-8eb9-a84511658ead",
   "metadata": {},
   "outputs": [],
   "source": [
    "def taking(l):\n",
    "    return [n for n in l if n % 2 == 0]"
   ]
  },
  {
   "cell_type": "code",
   "execution_count": 12,
   "id": "fe6e59ac-58f4-4b78-a60f-067d9f9ec35d",
   "metadata": {},
   "outputs": [
    {
     "data": {
      "text/plain": [
       "[2, 4, 6, 8, 10]"
      ]
     },
     "execution_count": 12,
     "metadata": {},
     "output_type": "execute_result"
    }
   ],
   "source": [
    "l = [1, 2, 3, 4, 5, 6, 7, 8, 9, 10]\n",
    "taking(l)\n",
    "\n"
   ]
  },
  {
   "cell_type": "code",
   "execution_count": null,
   "id": "a0b82e40-d269-4171-b212-d364469528e4",
   "metadata": {},
   "outputs": [],
   "source": [
    "Implement a decorator function called ‘timer’ that measures the execution time of a function. \n",
    "The ‘timer’ decorator should print the time taken by the decorated function to execute. Use the ‘time’ module in Python to calculate the execution time."
   ]
  },
  {
   "cell_type": "code",
   "execution_count": 16,
   "id": "359f1555-bbee-4ea6-8d0d-fb549d6c7b5f",
   "metadata": {},
   "outputs": [
    {
     "name": "stdout",
     "output_type": "stream",
     "text": [
      "Execution time: 2.00206 seconds\n"
     ]
    }
   ],
   "source": [
    "import time\n",
    "def timers():\n",
    "    stt = time.time()\n",
    "    ett = time.time()\n",
    "    ext = stt-ett\n",
    "\n",
    "@timer\n",
    "def my_function():\n",
    "    def taking(l):\n",
    "        return [n for n in l if n % 2 == 0]\n",
    "    time.sleep(2)\n",
    "\n",
    "my_function()"
   ]
  },
  {
   "cell_type": "code",
   "execution_count": null,
   "id": "7a5b167d-c5b1-4444-8c10-6866e67ab0bb",
   "metadata": {},
   "outputs": [],
   "source": [
    "Write a function called ‘calculate_mean’ that takes a list of numbers as input and returns the mean (average) of the numbers.\n",
    "The function should calculate the mean using the sum of the numbers divided by the total count."
   ]
  },
  {
   "cell_type": "code",
   "execution_count": 19,
   "id": "0ffd227a-726d-4349-b179-61b865ccb699",
   "metadata": {},
   "outputs": [],
   "source": [
    "def calculate_mean(lis):\n",
    "    a=0\n",
    "    for i in lis:\n",
    "        a = a+i\n",
    "        \n",
    "    mean = a/len(lis)\n",
    "    return mean\n",
    "        \n",
    "    "
   ]
  },
  {
   "cell_type": "code",
   "execution_count": 21,
   "id": "7dddf4be-8ef8-42f4-8a8f-8bc9aad938bc",
   "metadata": {},
   "outputs": [
    {
     "data": {
      "text/plain": [
       "3.5"
      ]
     },
     "execution_count": 21,
     "metadata": {},
     "output_type": "execute_result"
    }
   ],
   "source": [
    "data = [1,2,3,4,5,6]\n",
    "calculate_mean(data)"
   ]
  },
  {
   "cell_type": "code",
   "execution_count": null,
   "id": "ab20fba9-32ba-450e-9901-a6e5a821751c",
   "metadata": {},
   "outputs": [],
   "source": [
    "Write a function called ‘perform_hypothesis_test’ that takes two lists of numbers as input, representing two samples.\n",
    "The function should perform a two-sample t-test and return the p-value. Use the ‘scipy.stats’ module in Python to calculate the t-test and p-value."
   ]
  },
  {
   "cell_type": "code",
   "execution_count": 22,
   "id": "326f9df5-355d-406e-b5a6-929a24c6ffd4",
   "metadata": {},
   "outputs": [],
   "source": [
    "from scipy import stats\n",
    "def perform_hypothesis_test(s1,s2):\n",
    "    t_test,p_value = stats.ttest_ind(s1,s2)\n",
    "    return p_value"
   ]
  },
  {
   "cell_type": "code",
   "execution_count": 24,
   "id": "3c8706fa-9f75-4f42-ab2f-892cc63535fb",
   "metadata": {},
   "outputs": [
    {
     "name": "stdout",
     "output_type": "stream",
     "text": [
      "P_VALUE IS : 0.09434977284243756\n"
     ]
    }
   ],
   "source": [
    "s1 = [5, 10, 15, 20, 25]\n",
    "s2 = [10, 20, 30, 40, 50]\n",
    "p_value = perform_hypothesis_test(s1, s2)\n",
    "print(f\"P_VALUE IS : {p_value}\")"
   ]
  },
  {
   "cell_type": "code",
   "execution_count": null,
   "id": "32c059d0-c555-43aa-b291-e5550559ef6d",
   "metadata": {},
   "outputs": [],
   "source": []
  }
 ],
 "metadata": {
  "kernelspec": {
   "display_name": "Python 3 (ipykernel)",
   "language": "python",
   "name": "python3"
  },
  "language_info": {
   "codemirror_mode": {
    "name": "ipython",
    "version": 3
   },
   "file_extension": ".py",
   "mimetype": "text/x-python",
   "name": "python",
   "nbconvert_exporter": "python",
   "pygments_lexer": "ipython3",
   "version": "3.10.6"
  }
 },
 "nbformat": 4,
 "nbformat_minor": 5
}
